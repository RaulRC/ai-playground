{
 "cells": [
  {
   "cell_type": "markdown",
   "id": "brown-samba",
   "metadata": {},
   "source": [
    "### Imports"
   ]
  },
  {
   "cell_type": "code",
   "execution_count": 3,
   "id": "bearing-duplicate",
   "metadata": {},
   "outputs": [],
   "source": [
    "import gym\n",
    "from collections import namedtuple\n",
    "import numpy as np\n",
    "from tensorboardX import SummaryWriter\n",
    "\n",
    "import torch\n",
    "import torch.nn as nn\n",
    "import torch.optim as optim"
   ]
  },
  {
   "cell_type": "markdown",
   "id": "parallel-migration",
   "metadata": {},
   "source": [
    "### NNet Params"
   ]
  },
  {
   "cell_type": "code",
   "execution_count": 4,
   "id": "seventh-awareness",
   "metadata": {},
   "outputs": [],
   "source": [
    "#Hidden layer\n",
    "HIDDEN_SIZE=128\n",
    "#Episodes per play\n",
    "BATCH_SIZE=16\n",
    "#Threshold\n",
    "PERCENTILE=70"
   ]
  },
  {
   "cell_type": "markdown",
   "id": "unique-whole",
   "metadata": {},
   "source": [
    "### Neural Network Definition"
   ]
  },
  {
   "cell_type": "code",
   "execution_count": 6,
   "id": "quick-selection",
   "metadata": {},
   "outputs": [],
   "source": [
    "class Net(nn.Module):\n",
    "    def __init__(self, obs_size, hidden_size, n_actions):\n",
    "        super(Net, self).__init__()\n",
    "        self.net = nn.Sequential(\n",
    "            nn.Linear(obs_size, hidden_size),\n",
    "            nn.ReLU(),\n",
    "            # Notice there is no non-linearity function (yet)\n",
    "            nn.Linear(hidden_size, n_actions)\n",
    "        )\n",
    "\n",
    "    def forward(self, x):\n",
    "        return self.net(x)"
   ]
  },
  {
   "cell_type": "markdown",
   "id": "cubic-survival",
   "metadata": {},
   "source": [
    "### Episode and Step definition"
   ]
  },
  {
   "cell_type": "code",
   "execution_count": 7,
   "id": "bibliographic-scholarship",
   "metadata": {},
   "outputs": [],
   "source": [
    "Episode = namedtuple('Episode', field_names=['reward', 'steps'])\n",
    "EpisodeStep = namedtuple('EpisodeStep', field_names=['observation', 'action'])"
   ]
  },
  {
   "cell_type": "markdown",
   "id": "adjacent-immigration",
   "metadata": {},
   "source": [
    "### Function to batch iteration"
   ]
  },
  {
   "cell_type": "code",
   "execution_count": 8,
   "id": "convertible-kentucky",
   "metadata": {},
   "outputs": [],
   "source": [
    "def iterate_batches(env, net, batch_size):\n",
    "    \"\"\"\n",
    "    env: The environment (Env class instance from Gym)\n",
    "    net: The defined neural network\n",
    "    batch_size: count of episodes it should generate on every iteration\n",
    "    \"\"\"\n",
    "    \n",
    "    # Accumulates the current episode and its list of steps (EpisodeStep object)\n",
    "    batch = []\n",
    "    \n",
    "    # Reset the environment\n",
    "    episode_reward = 0.0\n",
    "    episode_steps = []\n",
    "    obs = env.reset()\n",
    "    \n",
    "    # To convert the nn output to a probability distribution of actions\n",
    "    sm = nn.Softmax(dim=1)\n",
    "    \n",
    "    while True:\n",
    "        # Current observation to a Pytorch tensor\n",
    "        obs_v = torch.FloatTensor([obs])\n",
    "        # Observation is passed to the NNet using Softmax for the Probability distribution\n",
    "        act_probs_v = sm(net(obs_v))\n",
    "        # Get the probability of the actions \n",
    "        act_probs = act_probs_v.data.numpy()[0]\n",
    "        # Choose an action based on the probability distribution\n",
    "        action = np.random.choice(len(act_probs), p=act_probs)\n",
    "        # Apply that action on the environment\n",
    "        next_obs, reward, is_done, _ = env.step(action)\n",
    "        # Increment the reward\n",
    "        episode_reward += reward\n",
    "        # Add the step to the list \n",
    "        # - Warning; save the current observation, not the next_obs returned, affected with the action\n",
    "        episode_steps.append(EpisodeStep(observation=obs, action=action))\n",
    "\n",
    "        if is_done:\n",
    "            # Append the episode \n",
    "            batch.append(Episode(reward=episode_reward, steps=episode_steps))\n",
    "            # Reset the environment\n",
    "            episode_reward = 0.0\n",
    "            episode_steps = []\n",
    "            next_obs = env.reset()\n",
    "            \n",
    "            if len(batch) == batch_size:\n",
    "                # Return to the caller for processing using yield, so this function is a generator\n",
    "                yield batch\n",
    "                # And reset\n",
    "                batch = []\n",
    "        \n",
    "        # Finally, update the current observation (State)\n",
    "        obs = next_obs"
   ]
  },
  {
   "cell_type": "markdown",
   "id": "boolean-capacity",
   "metadata": {},
   "source": [
    "### Filter those batche above the threshold defined"
   ]
  },
  {
   "cell_type": "code",
   "execution_count": 9,
   "id": "amino-subscription",
   "metadata": {},
   "outputs": [],
   "source": [
    "def filter_batch(batch, percentile):\n",
    "    rewards = list(map(lambda s: s.reward, batch))\n",
    "    # Filters the elite episodes, those with a reward over a percentile\n",
    "    reward_bound = np.percentile(rewards, percentile)\n",
    "    # Mean reward for monitoring purposes only\n",
    "    reward_mean = float(np.mean(rewards))\n",
    "\n",
    "    train_obs = []\n",
    "    train_act = []\n",
    "    for example in batch:\n",
    "        if example.reward < reward_bound:\n",
    "            continue\n",
    "        train_obs.extend(map(lambda step: step.observation, example.steps))\n",
    "        train_act.extend(map(lambda step: step.action, example.steps))\n",
    "    # For every filtered episode, save them and transform from Episodes into tensors and return a tuple:\n",
    "    # - observations, actions, boundary of rewards and mean reward (last two for monitoring purposes)\n",
    "    train_obs_v = torch.FloatTensor(train_obs)\n",
    "    train_act_v = torch.LongTensor(train_act)\n",
    "    # Return them\n",
    "    return train_obs_v, train_act_v, reward_bound, reward_mean"
   ]
  },
  {
   "cell_type": "markdown",
   "id": "catholic-congress",
   "metadata": {},
   "source": [
    "### Execution"
   ]
  },
  {
   "cell_type": "code",
   "execution_count": 14,
   "id": "alpha-uncertainty",
   "metadata": {},
   "outputs": [
    {
     "name": "stdout",
     "output_type": "stream",
     "text": [
      "0: loss=0.702, reward_mean=22.6, reward_bound=23.0\n",
      "1: loss=0.686, reward_mean=27.7, reward_bound=26.0\n",
      "2: loss=0.665, reward_mean=38.9, reward_bound=55.0\n",
      "3: loss=0.661, reward_mean=34.8, reward_bound=31.0\n",
      "4: loss=0.644, reward_mean=39.8, reward_bound=41.0\n",
      "5: loss=0.633, reward_mean=33.3, reward_bound=35.5\n",
      "6: loss=0.632, reward_mean=44.7, reward_bound=55.0\n",
      "7: loss=0.605, reward_mean=50.0, reward_bound=63.5\n",
      "8: loss=0.613, reward_mean=42.5, reward_bound=44.0\n",
      "9: loss=0.594, reward_mean=49.8, reward_bound=56.0\n",
      "10: loss=0.596, reward_mean=57.0, reward_bound=65.5\n",
      "11: loss=0.576, reward_mean=65.2, reward_bound=66.0\n",
      "12: loss=0.571, reward_mean=56.8, reward_bound=62.0\n",
      "13: loss=0.561, reward_mean=66.2, reward_bound=73.5\n",
      "14: loss=0.568, reward_mean=59.1, reward_bound=62.5\n",
      "15: loss=0.545, reward_mean=58.0, reward_bound=69.5\n",
      "16: loss=0.552, reward_mean=62.1, reward_bound=76.0\n",
      "17: loss=0.539, reward_mean=59.6, reward_bound=62.0\n",
      "18: loss=0.531, reward_mean=61.4, reward_bound=62.5\n",
      "19: loss=0.504, reward_mean=62.1, reward_bound=68.5\n",
      "20: loss=0.503, reward_mean=76.6, reward_bound=84.5\n",
      "21: loss=0.522, reward_mean=81.4, reward_bound=79.5\n",
      "22: loss=0.510, reward_mean=66.6, reward_bound=78.5\n",
      "23: loss=0.501, reward_mean=73.6, reward_bound=82.0\n",
      "24: loss=0.492, reward_mean=73.1, reward_bound=83.0\n",
      "25: loss=0.476, reward_mean=73.1, reward_bound=80.5\n",
      "26: loss=0.521, reward_mean=70.0, reward_bound=78.5\n",
      "27: loss=0.506, reward_mean=77.7, reward_bound=90.5\n",
      "28: loss=0.488, reward_mean=84.4, reward_bound=102.5\n",
      "29: loss=0.488, reward_mean=84.6, reward_bound=88.5\n",
      "30: loss=0.474, reward_mean=101.9, reward_bound=106.0\n",
      "31: loss=0.484, reward_mean=105.2, reward_bound=115.5\n",
      "32: loss=0.462, reward_mean=126.9, reward_bound=160.0\n",
      "33: loss=0.477, reward_mean=112.3, reward_bound=119.5\n",
      "34: loss=0.468, reward_mean=138.9, reward_bound=159.0\n",
      "35: loss=0.473, reward_mean=134.1, reward_bound=154.0\n",
      "36: loss=0.468, reward_mean=169.4, reward_bound=199.5\n",
      "37: loss=0.470, reward_mean=172.2, reward_bound=200.0\n",
      "38: loss=0.462, reward_mean=167.9, reward_bound=182.5\n",
      "39: loss=0.456, reward_mean=173.8, reward_bound=193.0\n",
      "40: loss=0.474, reward_mean=178.0, reward_bound=200.0\n",
      "41: loss=0.459, reward_mean=181.8, reward_bound=200.0\n",
      "42: loss=0.460, reward_mean=188.8, reward_bound=200.0\n",
      "43: loss=0.465, reward_mean=193.5, reward_bound=200.0\n",
      "44: loss=0.473, reward_mean=186.5, reward_bound=200.0\n",
      "45: loss=0.465, reward_mean=197.0, reward_bound=200.0\n",
      "46: loss=0.472, reward_mean=194.7, reward_bound=200.0\n",
      "47: loss=0.453, reward_mean=200.0, reward_bound=200.0\n",
      "Solved!\n"
     ]
    }
   ],
   "source": [
    "if __name__ == \"__main__\":\n",
    "    # Create environment\n",
    "    env = gym.make(\"CartPole-v0\")\n",
    "    # env = gym.wrappers.Monitor(env, directory=\"mon\", force=True)\n",
    "    \n",
    "    # Obs size\n",
    "    obs_size = env.observation_space.shape[0]\n",
    "    \n",
    "    # Actions on this environment\n",
    "    n_actions = env.action_space.n\n",
    "\n",
    "    # Instantiate the NNet\n",
    "    net = Net(obs_size, HIDDEN_SIZE, n_actions)\n",
    "    \n",
    "    #Objective function\n",
    "    objective = nn.CrossEntropyLoss()\n",
    "    optimizer = optim.Adam(params=net.parameters(), lr=0.01)\n",
    "    writer = SummaryWriter(comment=\"-cartpole\")\n",
    "\n",
    "    for iter_no, batch in enumerate(iterate_batches(env, net, BATCH_SIZE)):\n",
    "        obs_v, acts_v, reward_b, reward_m = filter_batch(batch, PERCENTILE)\n",
    "        optimizer.zero_grad()\n",
    "        action_scores_v = net(obs_v)\n",
    "        loss_v = objective(action_scores_v, acts_v)\n",
    "        loss_v.backward()\n",
    "        optimizer.step()\n",
    "        print(\"%d: loss=%.3f, reward_mean=%.1f, reward_bound=%.1f\" % (\n",
    "            iter_no, loss_v.item(), reward_m, reward_b))\n",
    "        writer.add_scalar(\"loss\", loss_v.item(), iter_no)\n",
    "        writer.add_scalar(\"reward_bound\", reward_b, iter_no)\n",
    "        writer.add_scalar(\"reward_mean\", reward_m, iter_no)\n",
    "        if reward_m > 199:\n",
    "            print(\"Solved!\")\n",
    "            break\n",
    "    writer.close()"
   ]
  },
  {
   "cell_type": "code",
   "execution_count": null,
   "id": "geological-island",
   "metadata": {},
   "outputs": [],
   "source": []
  }
 ],
 "metadata": {
  "kernelspec": {
   "display_name": "Python 3",
   "language": "python",
   "name": "python3"
  },
  "language_info": {
   "codemirror_mode": {
    "name": "ipython",
    "version": 3
   },
   "file_extension": ".py",
   "mimetype": "text/x-python",
   "name": "python",
   "nbconvert_exporter": "python",
   "pygments_lexer": "ipython3",
   "version": "3.7.4"
  }
 },
 "nbformat": 4,
 "nbformat_minor": 5
}
