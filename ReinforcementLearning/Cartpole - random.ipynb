{
 "cells": [
  {
   "cell_type": "code",
   "execution_count": 82,
   "id": "figured-universe",
   "metadata": {},
   "outputs": [
    {
     "data": {
      "text/plain": [
       "'0.18.0'"
      ]
     },
     "execution_count": 82,
     "metadata": {},
     "output_type": "execute_result"
    }
   ],
   "source": [
    "import gym\n",
    "import numpy as np\n",
    "gym.__version__"
   ]
  },
  {
   "cell_type": "code",
   "execution_count": 88,
   "id": "cooperative-links",
   "metadata": {},
   "outputs": [
    {
     "name": "stdout",
     "output_type": "stream",
     "text": [
      "Average steps: 21\n",
      "Average reward: 21.42\n"
     ]
    }
   ],
   "source": [
    "RUNS = 1000\n",
    "steps = list()\n",
    "rewards = list()\n",
    "\n",
    "for i in range(RUNS):\n",
    "    env = gym.make(\"CartPole-v0\")\n",
    "    total_reward = 0.0\n",
    "    total_steps = 0 \n",
    "    obs = env.reset()\n",
    "    while True:\n",
    "        action = env.action_space.sample()\n",
    "        obs, reward, done, _ = env.step(action)\n",
    "        total_reward += reward\n",
    "        total_steps += 1\n",
    "        if done:\n",
    "            break\n",
    "    steps.append(total_steps)\n",
    "    rewards.append(total_reward)\n",
    "    #print(\"[%d/%d]\\tEpisode done in %d steps, total reward %.2f\" % (i+1, RUNS, total_steps, total_reward))\n",
    "print(\"Average steps: %d\\nAverage reward: %.2f\" % (np.mean(steps), np.mean(rewards)))"
   ]
  },
  {
   "cell_type": "code",
   "execution_count": null,
   "id": "beneficial-bradley",
   "metadata": {},
   "outputs": [],
   "source": []
  }
 ],
 "metadata": {
  "kernelspec": {
   "display_name": "Python 3",
   "language": "python",
   "name": "python3"
  },
  "language_info": {
   "codemirror_mode": {
    "name": "ipython",
    "version": 3
   },
   "file_extension": ".py",
   "mimetype": "text/x-python",
   "name": "python",
   "nbconvert_exporter": "python",
   "pygments_lexer": "ipython3",
   "version": "3.7.4"
  }
 },
 "nbformat": 4,
 "nbformat_minor": 5
}
