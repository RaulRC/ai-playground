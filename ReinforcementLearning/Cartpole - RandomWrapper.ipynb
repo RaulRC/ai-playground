{
 "cells": [
  {
   "cell_type": "code",
   "execution_count": 1,
   "id": "figured-universe",
   "metadata": {},
   "outputs": [
    {
     "data": {
      "text/plain": [
       "'0.18.0'"
      ]
     },
     "execution_count": 1,
     "metadata": {},
     "output_type": "execute_result"
    }
   ],
   "source": [
    "import gym\n",
    "import numpy as np\n",
    "import random\n",
    "gym.__version__"
   ]
  },
  {
   "cell_type": "code",
   "execution_count": 4,
   "id": "dominant-location",
   "metadata": {},
   "outputs": [],
   "source": [
    "class RandomActionWrapper(gym.ActionWrapper):\n",
    "    def __init__(self, env, epsilon=0.1):\n",
    "        super(RandomActionWrapper, self).__init__(env)\n",
    "        self.epsilon=epsilon\n",
    "    \n",
    "    def action(self, action):\n",
    "        if random.random() < self.epsilon:\n",
    "            return self.env.action_space.sample()\n",
    "        return action"
   ]
  },
  {
   "cell_type": "code",
   "execution_count": 14,
   "id": "cooperative-links",
   "metadata": {},
   "outputs": [
    {
     "name": "stdout",
     "output_type": "stream",
     "text": [
      "Average steps: 22\n",
      "Average reward: 22.24\n"
     ]
    }
   ],
   "source": [
    "RUNS = 1000\n",
    "steps = list()\n",
    "rewards = list()\n",
    "\n",
    "for i in range(RUNS):\n",
    "    env = RandomActionWrapper(gym.make(\"CartPole-v0\"), epsilon=1.0)\n",
    "    total_reward = 0.0\n",
    "    total_steps = 0 \n",
    "    obs = env.reset()\n",
    "    while True:\n",
    "        #action = env.action_space.sample()\n",
    "        obs, reward, done, _ = env.step(0)\n",
    "        total_reward += reward\n",
    "        total_steps += 1\n",
    "        if done:\n",
    "            break\n",
    "    steps.append(total_steps)\n",
    "    rewards.append(total_reward)\n",
    "    #print(\"[%d/%d]\\tEpisode done in %d steps, total reward %.2f\" % (i+1, RUNS, total_steps, total_reward))\n",
    "print(\"Average steps: %d\\nAverage reward: %.2f\" % (np.mean(steps), np.mean(rewards)))"
   ]
  },
  {
   "cell_type": "code",
   "execution_count": null,
   "id": "beneficial-bradley",
   "metadata": {},
   "outputs": [],
   "source": []
  }
 ],
 "metadata": {
  "kernelspec": {
   "display_name": "Python 3",
   "language": "python",
   "name": "python3"
  },
  "language_info": {
   "codemirror_mode": {
    "name": "ipython",
    "version": 3
   },
   "file_extension": ".py",
   "mimetype": "text/x-python",
   "name": "python",
   "nbconvert_exporter": "python",
   "pygments_lexer": "ipython3",
   "version": "3.7.4"
  }
 },
 "nbformat": 4,
 "nbformat_minor": 5
}
